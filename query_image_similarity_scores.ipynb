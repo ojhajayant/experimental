{
  "cells": [
    {
      "cell_type": "code",
      "source": [
        "import datetime\n",
        "import pandas as pd\n",
        "from typing import List"
      ],
      "metadata": {
        "id": "tuozVtacKOjR"
      },
      "execution_count": 99,
      "outputs": []
    },
    {
      "cell_type": "code",
      "source": [
        "xls_path = \"/content/c17_separate_groups.xlsx\""
      ],
      "metadata": {
        "id": "apbEPyi49neV"
      },
      "execution_count": 100,
      "outputs": []
    },
    {
      "cell_type": "code",
      "source": [
        "class QueryImage:\n",
        "    def __init__(self, base_path: str, index_name: str, xls_path: str):\n",
        "        self.base_path = base_path\n",
        "        self.index_name = index_name\n",
        "        self.xls_path = xls_path\n",
        "        self.xls_data = pd.read_excel(self.xls_path)\n",
        "\n",
        "    def generate_image_path(self, date: str, pred_type: str, img_type: str) -> str:\n",
        "        # Parse date in dd-mm-yy format\n",
        "        day, month, year = date.split(\"-\")\n",
        "        # Convert month from string to integer and get month name abbreviation\n",
        "        month_name = f\"{month.zfill(2)}_{datetime.date(2000, int(month), 1).strftime('%B')}\"\n",
        "        # Generate image path based on the given parameters\n",
        "        if img_type == \"correction\":\n",
        "            image_path = f\"{self.base_path}/correction/{self.index_name}/{year}/{month_name}/{day}_{month}_\"\n",
        "        elif img_type == \"impulse\":\n",
        "            image_path = f\"{self.base_path}/impulse/{self.index_name}/{year}/{month_name}/{day}_{month}_\"\n",
        "        else:\n",
        "            raise ValueError(\"Invalid image type. Must be either 'correction' or 'impulse'\")\n",
        "\n",
        "        if pred_type == \"1d_eb\":\n",
        "            image_path += \"1d_eb_15-25.png\"\n",
        "        elif pred_type == \"c17_eb\":\n",
        "            image_path += \"c17_eb_15-25.png\"\n",
        "        elif pred_type == \"c17_nb\":\n",
        "            image_path += \"c17_nb_15-25.png\"\n",
        "        else:\n",
        "            raise ValueError(\"Invalid prediction type. Must be either '1d_eb', 'c17_eb' or 'c17_nb'\")\n",
        "\n",
        "        return image_path\n",
        "\n",
        "    def get_label_tuple(self, date: str, pred_type: str, img_type: str) -> tuple:\n",
        "        image_path = self.generate_image_path(date, pred_type, img_type)\n",
        "        df = self.xls_data.loc[self.xls_data[\"image_path\"] == image_path]\n",
        "        if len(df) == 0:\n",
        "            if img_type == \"correction\":\n",
        "                new_img_type = \"impulse\"\n",
        "            elif img_type == \"impulse\":\n",
        "                new_img_type = \"correction\"\n",
        "            else:\n",
        "                raise ValueError(\"Invalid image type. Must be either 'correction' or 'impulse'\")\n",
        "            message = f\"No matching row found for {img_type} in the xls file. Try changing the img_type to {new_img_type}.\"\n",
        "            raise ValueError(message)\n",
        "        else:\n",
        "            prev_pred_value = df.at[df.index[0], 'prev_pred']\n",
        "            c17_eb_pred_value = df.at[df.index[0], 'c17_eb_pred']\n",
        "            c17_nb_pred_value = df.at[df.index[0], 'c17_nb_pred']\n",
        "            return prev_pred_value, c17_eb_pred_value, c17_nb_pred_value\n",
        "\n",
        "    def get_matching_image_paths(self, date: str, pred_type: str, img_type: str) -> List[str]:\n",
        "        query_image_path = self.generate_image_path(date, pred_type, img_type)\n",
        "        query_label_tuple = self.get_label_tuple(date, pred_type, img_type)\n",
        "        query_df = self.xls_data.loc[(self.xls_data[\"image_path\"] == query_image_path) & (self.xls_data[\"prev_pred\"] == query_label_tuple[0]) & (self.xls_data[\"c17_eb_pred\"] == query_label_tuple[1]) & (self.xls_data[\"c17_nb_pred\"] == query_label_tuple[2])]\n",
        "        \n",
        "        if len(query_df) == 0:\n",
        "            raise ValueError(\"No matching row found for the given query.\")\n",
        "        \n",
        "        matching_rows_df = self.xls_data.loc[(self.xls_data[\"prev_pred\"] == query_label_tuple[0]) & (self.xls_data[\"c17_eb_pred\"] == query_label_tuple[1]) & (self.xls_data[\"c17_nb_pred\"] == query_label_tuple[2])]\n",
        "        matching_image_paths = matching_rows_df.loc[matching_rows_df[\"image_path\"] != query_image_path, \"image_path\"].tolist()\n",
        "        \n",
        "        return matching_image_paths\n"
      ],
      "metadata": {
        "id": "Ad7g6hnbuh9g"
      },
      "execution_count": 101,
      "outputs": []
    },
    {
      "cell_type": "code",
      "source": [
        "query = QueryImage(\"./data/stock_indices_data\", \"NIFTY50\", xls_path)\n",
        "image_path = query.generate_image_path(\"24-03-2020\", \"1d_eb\", \"impulse\")\n",
        "print(image_path)  # Output: ./data/stock_indices_data/impulse/NIFTY50/2020/03_March/24_03_1d_eb_15-25.png\n"
      ],
      "metadata": {
        "colab": {
          "base_uri": "https://localhost:8080/"
        },
        "id": "gPId-vKiuh6y",
        "outputId": "b70aa274-8014-4d51-e4bd-dd39a01f3398"
      },
      "execution_count": 102,
      "outputs": [
        {
          "output_type": "stream",
          "name": "stdout",
          "text": [
            "./data/stock_indices_data/impulse/NIFTY50/2020/03_March/24_03_1d_eb_15-25.png\n"
          ]
        }
      ]
    },
    {
      "cell_type": "code",
      "source": [
        "image_path = query.generate_image_path(\"09-11-2022\", \"1d_eb\", \"correction\")\n",
        "print(image_path)  \n"
      ],
      "metadata": {
        "colab": {
          "base_uri": "https://localhost:8080/"
        },
        "id": "Ot4PuAvRuh4E",
        "outputId": "0ddd4637-e340-4dcb-9a78-4d9ff01e5de6"
      },
      "execution_count": 103,
      "outputs": [
        {
          "output_type": "stream",
          "name": "stdout",
          "text": [
            "./data/stock_indices_data/correction/NIFTY50/2022/11_November/09_11_1d_eb_15-25.png\n"
          ]
        }
      ]
    },
    {
      "cell_type": "code",
      "source": [
        "label_tuple = query.get_label_tuple(\"09-11-2022\", \"1d_eb\", \"correction\")\n",
        "print(label_tuple)"
      ],
      "metadata": {
        "colab": {
          "base_uri": "https://localhost:8080/"
        },
        "id": "Ymuap6q2uh1U",
        "outputId": "d6080093-b147-4ff8-8813-6d979ca15da3"
      },
      "execution_count": 104,
      "outputs": [
        {
          "output_type": "stream",
          "name": "stdout",
          "text": [
            "('impulse', 'impulse', 'impulse')\n"
          ]
        }
      ]
    },
    {
      "cell_type": "code",
      "source": [
        "matching_image_paths = query.get_matching_image_paths(\"09-11-2022\", \"1d_eb\", \"correction\")\n",
        "for x in matching_image_paths:\n",
        "    print(x)"
      ],
      "metadata": {
        "colab": {
          "base_uri": "https://localhost:8080/"
        },
        "id": "aAFs7YO2uhye",
        "outputId": "65078b87-49cd-477b-c6d3-c10a35699b09"
      },
      "execution_count": 105,
      "outputs": [
        {
          "output_type": "stream",
          "name": "stdout",
          "text": [
            "./data/stock_indices_data/impulse/NIFTY50/2020/10_October/05_10_1d_eb_15-25.png\n",
            "./data/stock_indices_data/impulse/NIFTY50/2020/10_October/06_10_1d_eb_15-25.png\n",
            "./data/stock_indices_data/impulse/NIFTY50/2020/10_October/07_10_1d_eb_15-25.png\n",
            "./data/stock_indices_data/impulse/NIFTY50/2020/10_October/08_10_1d_eb_15-25.png\n",
            "./data/stock_indices_data/impulse/NIFTY50/2020/10_October/09_10_1d_eb_15-25.png\n",
            "./data/stock_indices_data/impulse/NIFTY50/2020/11_November/02_11_1d_eb_15-25.png\n",
            "./data/stock_indices_data/impulse/NIFTY50/2020/11_November/06_11_1d_eb_15-25.png\n",
            "./data/stock_indices_data/impulse/NIFTY50/2020/11_November/09_11_1d_eb_15-25.png\n",
            "./data/stock_indices_data/impulse/NIFTY50/2020/11_November/10_11_1d_eb_15-25.png\n",
            "./data/stock_indices_data/impulse/NIFTY50/2020/11_November/17_11_1d_eb_15-25.png\n",
            "./data/stock_indices_data/impulse/NIFTY50/2020/11_November/23_11_1d_eb_15-25.png\n",
            "./data/stock_indices_data/correction/NIFTY50/2020/11_November/25_11_1d_eb_15-25.png\n",
            "./data/stock_indices_data/impulse/NIFTY50/2020/12_December/03_12_1d_eb_15-25.png\n",
            "./data/stock_indices_data/impulse/NIFTY50/2020/12_December/04_12_1d_eb_15-25.png\n",
            "./data/stock_indices_data/impulse/NIFTY50/2020/12_December/07_12_1d_eb_15-25.png\n",
            "./data/stock_indices_data/impulse/NIFTY50/2020/12_December/10_12_1d_eb_15-25.png\n",
            "./data/stock_indices_data/impulse/NIFTY50/2020/12_December/11_12_1d_eb_15-25.png\n",
            "./data/stock_indices_data/impulse/NIFTY50/2020/12_December/16_12_1d_eb_15-25.png\n",
            "./data/stock_indices_data/impulse/NIFTY50/2020/12_December/17_12_1d_eb_15-25.png\n",
            "./data/stock_indices_data/impulse/NIFTY50/2020/12_December/23_12_1d_eb_15-25.png\n",
            "./data/stock_indices_data/impulse/NIFTY50/2020/12_December/24_12_1d_eb_15-25.png\n",
            "./data/stock_indices_data/impulse/NIFTY50/2020/12_December/28_12_1d_eb_15-25.png\n",
            "./data/stock_indices_data/impulse/NIFTY50/2020/12_December/30_12_1d_eb_15-25.png\n",
            "./data/stock_indices_data/impulse/NIFTY50/2021/01_January/05_01_1d_eb_15-25.png\n",
            "./data/stock_indices_data/impulse/NIFTY50/2021/01_January/06_01_1d_eb_15-25.png\n",
            "./data/stock_indices_data/impulse/NIFTY50/2021/01_January/07_01_1d_eb_15-25.png\n",
            "./data/stock_indices_data/impulse/NIFTY50/2021/01_January/11_01_1d_eb_15-25.png\n",
            "./data/stock_indices_data/impulse/NIFTY50/2021/01_January/12_01_1d_eb_15-25.png\n",
            "./data/stock_indices_data/impulse/NIFTY50/2021/02_February/01_02_1d_eb_15-25.png\n",
            "./data/stock_indices_data/impulse/NIFTY50/2021/02_February/03_02_1d_eb_15-25.png\n",
            "./data/stock_indices_data/impulse/NIFTY50/2021/02_February/04_02_1d_eb_15-25.png\n",
            "./data/stock_indices_data/impulse/NIFTY50/2021/02_February/11_02_1d_eb_15-25.png\n",
            "./data/stock_indices_data/impulse/NIFTY50/2021/02_February/12_02_1d_eb_15-25.png\n",
            "./data/stock_indices_data/correction/NIFTY50/2021/04_April/05_04_1d_eb_15-25.png\n",
            "./data/stock_indices_data/correction/NIFTY50/2021/04_April/07_04_1d_eb_15-25.png\n",
            "./data/stock_indices_data/impulse/NIFTY50/2021/04_April/23_04_1d_eb_15-25.png\n",
            "./data/stock_indices_data/impulse/NIFTY50/2021/05_May/06_05_1d_eb_15-25.png\n",
            "./data/stock_indices_data/correction/NIFTY50/2021/05_May/18_05_1d_eb_15-25.png\n",
            "./data/stock_indices_data/impulse/NIFTY50/2021/05_May/21_05_1d_eb_15-25.png\n",
            "./data/stock_indices_data/impulse/NIFTY50/2021/05_May/27_05_1d_eb_15-25.png\n",
            "./data/stock_indices_data/impulse/NIFTY50/2021/05_May/28_05_1d_eb_15-25.png\n",
            "./data/stock_indices_data/impulse/NIFTY50/2021/05_May/31_05_1d_eb_15-25.png\n",
            "./data/stock_indices_data/impulse/NIFTY50/2021/06_June/03_06_1d_eb_15-25.png\n",
            "./data/stock_indices_data/correction/NIFTY50/2021/06_June/08_06_1d_eb_15-25.png\n",
            "./data/stock_indices_data/correction/NIFTY50/2021/06_June/22_06_1d_eb_15-25.png\n",
            "./data/stock_indices_data/correction/NIFTY50/2021/07_July/14_07_1d_eb_15-25.png\n",
            "./data/stock_indices_data/correction/NIFTY50/2021/07_July/15_07_1d_eb_15-25.png\n",
            "./data/stock_indices_data/impulse/NIFTY50/2021/07_July/30_07_1d_eb_15-25.png\n",
            "./data/stock_indices_data/impulse/NIFTY50/2021/08_August/02_08_1d_eb_15-25.png\n",
            "./data/stock_indices_data/impulse/NIFTY50/2021/08_August/03_08_1d_eb_15-25.png\n",
            "./data/stock_indices_data/impulse/NIFTY50/2021/08_August/04_08_1d_eb_15-25.png\n",
            "./data/stock_indices_data/impulse/NIFTY50/2021/08_August/11_08_1d_eb_15-25.png\n",
            "./data/stock_indices_data/impulse/NIFTY50/2021/08_August/12_08_1d_eb_15-25.png\n",
            "./data/stock_indices_data/impulse/NIFTY50/2021/08_August/13_08_1d_eb_15-25.png\n",
            "./data/stock_indices_data/impulse/NIFTY50/2021/08_August/16_08_1d_eb_15-25.png\n",
            "./data/stock_indices_data/impulse/NIFTY50/2021/08_August/17_08_1d_eb_15-25.png\n",
            "./data/stock_indices_data/impulse/NIFTY50/2021/08_August/24_08_1d_eb_15-25.png\n",
            "./data/stock_indices_data/correction/NIFTY50/2021/08_August/26_08_1d_eb_15-25.png\n",
            "./data/stock_indices_data/impulse/NIFTY50/2021/08_August/27_08_1d_eb_15-25.png\n",
            "./data/stock_indices_data/impulse/NIFTY50/2021/08_August/30_08_1d_eb_15-25.png\n",
            "./data/stock_indices_data/impulse/NIFTY50/2021/08_August/31_08_1d_eb_15-25.png\n",
            "./data/stock_indices_data/impulse/NIFTY50/2021/09_September/01_09_1d_eb_15-25.png\n",
            "./data/stock_indices_data/impulse/NIFTY50/2021/09_September/02_09_1d_eb_15-25.png\n",
            "./data/stock_indices_data/impulse/NIFTY50/2021/09_September/03_09_1d_eb_15-25.png\n",
            "./data/stock_indices_data/impulse/NIFTY50/2021/09_September/13_09_1d_eb_15-25.png\n",
            "./data/stock_indices_data/impulse/NIFTY50/2021/09_September/14_09_1d_eb_15-25.png\n",
            "./data/stock_indices_data/impulse/NIFTY50/2021/09_September/15_09_1d_eb_15-25.png\n",
            "./data/stock_indices_data/impulse/NIFTY50/2021/09_September/16_09_1d_eb_15-25.png\n",
            "./data/stock_indices_data/impulse/NIFTY50/2021/09_September/22_09_1d_eb_15-25.png\n",
            "./data/stock_indices_data/impulse/NIFTY50/2021/09_September/23_09_1d_eb_15-25.png\n",
            "./data/stock_indices_data/correction/NIFTY50/2021/09_September/24_09_1d_eb_15-25.png\n",
            "./data/stock_indices_data/impulse/NIFTY50/2021/10_October/04_10_1d_eb_15-25.png\n",
            "./data/stock_indices_data/correction/NIFTY50/2021/10_October/06_10_1d_eb_15-25.png\n",
            "./data/stock_indices_data/impulse/NIFTY50/2021/10_October/14_10_1d_eb_15-25.png\n",
            "./data/stock_indices_data/correction/NIFTY50/2021/10_October/19_10_1d_eb_15-25.png\n",
            "./data/stock_indices_data/correction/NIFTY50/2021/11_November/01_11_1d_eb_15-25.png\n",
            "./data/stock_indices_data/correction/NIFTY50/2021/11_November/02_11_1d_eb_15-25.png\n",
            "./data/stock_indices_data/correction/NIFTY50/2021/11_November/11_11_1d_eb_15-25.png\n",
            "./data/stock_indices_data/correction/NIFTY50/2021/12_December/02_12_1d_eb_15-25.png\n",
            "./data/stock_indices_data/correction/NIFTY50/2021/12_December/09_12_1d_eb_15-25.png\n",
            "./data/stock_indices_data/correction/NIFTY50/2021/12_December/10_12_1d_eb_15-25.png\n",
            "./data/stock_indices_data/correction/NIFTY50/2021/12_December/14_12_1d_eb_15-25.png\n",
            "./data/stock_indices_data/correction/NIFTY50/2021/12_December/21_12_1d_eb_15-25.png\n",
            "./data/stock_indices_data/correction/NIFTY50/2021/12_December/22_12_1d_eb_15-25.png\n",
            "./data/stock_indices_data/correction/NIFTY50/2021/12_December/27_12_1d_eb_15-25.png\n",
            "./data/stock_indices_data/correction/NIFTY50/2022/01_January/04_01_1d_eb_15-25.png\n",
            "./data/stock_indices_data/correction/NIFTY50/2022/01_January/05_01_1d_eb_15-25.png\n",
            "./data/stock_indices_data/correction/NIFTY50/2022/01_January/06_01_1d_eb_15-25.png\n",
            "./data/stock_indices_data/correction/NIFTY50/2022/01_January/10_01_1d_eb_15-25.png\n",
            "./data/stock_indices_data/correction/NIFTY50/2022/02_February/01_02_1d_eb_15-25.png\n",
            "./data/stock_indices_data/correction/NIFTY50/2022/02_February/02_02_1d_eb_15-25.png\n",
            "./data/stock_indices_data/correction/NIFTY50/2022/02_February/10_02_1d_eb_15-25.png\n",
            "./data/stock_indices_data/correction/NIFTY50/2022/02_February/23_02_1d_eb_15-25.png\n",
            "./data/stock_indices_data/correction/NIFTY50/2022/03_March/14_03_1d_eb_15-25.png\n",
            "./data/stock_indices_data/correction/NIFTY50/2022/03_March/17_03_1d_eb_15-25.png\n",
            "./data/stock_indices_data/correction/NIFTY50/2022/03_March/23_03_1d_eb_15-25.png \n",
            "./data/stock_indices_data/correction/NIFTY50/2022/03_March/25_03_1d_eb_15-25.png\n",
            "./data/stock_indices_data/correction/NIFTY50/2022/03_March/29_03_1d_eb_15-25.png\n",
            "./data/stock_indices_data/correction/NIFTY50/2022/03_March/30_03_1d_eb_15-25.png\n",
            "./data/stock_indices_data/correction/NIFTY50/2022/04_April/05_04_1d_eb_15-25.png\n",
            "./data/stock_indices_data/correction/NIFTY50/2022/04_April/11_04_1d_eb_15-25.png\n",
            "./data/stock_indices_data/correction/NIFTY50/2022/04_April/21_04_1d_eb_15-25.png\n",
            "./data/stock_indices_data/correction/NIFTY50/2022/05_May/18_05_1d_eb_15-25.png\n",
            "./data/stock_indices_data/correction/NIFTY50/2022/05_May/23_05_1d_eb_15-25.png\n",
            "./data/stock_indices_data/correction/NIFTY50/2022/06_June/02_06_1d_eb_15-25.png\n",
            "./data/stock_indices_data/correction/NIFTY50/2022/06_June/15_06_1d_eb_15-25.png\n",
            "./data/stock_indices_data/correction/NIFTY50/2022/06_June/21_06_1d_eb_15-25.png\n",
            "./data/stock_indices_data/correction/NIFTY50/2022/06_June/24_06_1d_eb_15-25.png\n",
            "./data/stock_indices_data/correction/NIFTY50/2022/07_July/05_07_1d_eb_15-25.png\n",
            "./data/stock_indices_data/correction/NIFTY50/2022/07_July/18_07_1d_eb_15-25.png\n",
            "./data/stock_indices_data/correction/NIFTY50/2022/07_July/21_07_1d_eb_15-25.png\n",
            "./data/stock_indices_data/correction/NIFTY50/2022/07_July/28_07_1d_eb_15-25.png\n",
            "./data/stock_indices_data/correction/NIFTY50/2022/08_August/01_08_1d_eb_15-25.png\n",
            "./data/stock_indices_data/correction/NIFTY50/2022/08_August/08_08_1d_eb_15-25.png\n",
            "./data/stock_indices_data/correction/NIFTY50/2022/08_August/17_08_1d_eb_15-25.png\n",
            "./data/stock_indices_data/correction/NIFTY50/2022/08_August/18_08_1d_eb_15-25.png\n",
            "./data/stock_indices_data/correction/NIFTY50/2022/08_August/19_08_1d_eb_15-25.png\n",
            "./data/stock_indices_data/correction/NIFTY50/2022/09_September/02_09_1d_eb_15-25.png\n",
            "./data/stock_indices_data/correction/NIFTY50/2022/09_September/28_09_1d_eb_15-25.png\n",
            "./data/stock_indices_data/correction/NIFTY50/2022/10_October/03_10_1d_eb_15-25.png\n",
            "./data/stock_indices_data/correction/NIFTY50/2022/10_October/06_10_1d_eb_15-25.png\n",
            "./data/stock_indices_data/correction/NIFTY50/2022/11_November/02_11_1d_eb_15-25.png\n",
            "./data/stock_indices_data/correction/NIFTY50/2022/11_November/23_11_1d_eb_15-25.png\n",
            "./data/stock_indices_data/correction/NIFTY50/2022/11_November/24_11_1d_eb_15-25.png\n"
          ]
        }
      ]
    },
    {
      "cell_type": "code",
      "source": [],
      "metadata": {
        "id": "J2qcIADquhvZ"
      },
      "execution_count": null,
      "outputs": []
    },
    {
      "cell_type": "code",
      "source": [],
      "metadata": {
        "id": "z1LLwff0uhky"
      },
      "execution_count": null,
      "outputs": []
    }
  ],
  "metadata": {
    "kernelspec": {
      "display_name": "base",
      "language": "python",
      "name": "python3"
    },
    "language_info": {
      "codemirror_mode": {
        "name": "ipython",
        "version": 3
      },
      "file_extension": ".py",
      "mimetype": "text/x-python",
      "name": "python",
      "nbconvert_exporter": "python",
      "pygments_lexer": "ipython3",
      "version": "3.9.7"
    },
    "orig_nbformat": 4,
    "vscode": {
      "interpreter": {
        "hash": "b8fbfcbe0e544000e4ba3d2d9974592a7ba1a2af52205db5302ae41a0c45d995"
      }
    },
    "colab": {
      "provenance": [],
      "machine_shape": "hm"
    },
    "gpuClass": "standard",
    "accelerator": "GPU"
  },
  "nbformat": 4,
  "nbformat_minor": 0
}